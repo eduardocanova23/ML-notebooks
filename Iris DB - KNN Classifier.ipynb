{
 "cells": [
  {
   "cell_type": "code",
   "execution_count": 1,
   "id": "8d4313d2",
   "metadata": {},
   "outputs": [],
   "source": [
    "import pandas as pd\n",
    "from sklearn.neighbors import KNeighborsClassifier"
   ]
  },
  {
   "cell_type": "code",
   "execution_count": 2,
   "id": "3218f323",
   "metadata": {},
   "outputs": [],
   "source": [
    "data = pd.read_csv('Iris_data.csv')"
   ]
  },
  {
   "cell_type": "code",
   "execution_count": 3,
   "id": "eb8d9cff",
   "metadata": {},
   "outputs": [],
   "source": [
    "# Shuffle the data frame to assure the training/test division is free from any selection bias\n",
    "\n",
    "shuffled_data = data.sample(frac=1,random_state=2308)"
   ]
  },
  {
   "cell_type": "code",
   "execution_count": 4,
   "id": "8e4b038d",
   "metadata": {},
   "outputs": [],
   "source": [
    "x_train = shuffled_data.iloc[:100,:-1].values\n",
    "y_train = shuffled_data.iloc[:100,-1].values"
   ]
  },
  {
   "cell_type": "code",
   "execution_count": 5,
   "id": "f876c860",
   "metadata": {},
   "outputs": [],
   "source": [
    "x_test = shuffled_data.iloc[100:,:-1].values\n",
    "y_test = shuffled_data.iloc[100:,-1].values"
   ]
  },
  {
   "cell_type": "code",
   "execution_count": 6,
   "id": "a321b686",
   "metadata": {},
   "outputs": [],
   "source": [
    "# Train a KNN classifier with the training set\n",
    "\n",
    "classifier = KNeighborsClassifier(n_neighbors=10)\n",
    "\n",
    "classifier = classifier.fit(x_train,y_train)"
   ]
  },
  {
   "cell_type": "code",
   "execution_count": 7,
   "id": "f5906c91",
   "metadata": {},
   "outputs": [],
   "source": [
    "# Obtain results with training data\n",
    "\n",
    "answer_y_train = classifier.predict(x_train)"
   ]
  },
  {
   "cell_type": "code",
   "execution_count": 8,
   "id": "154201e3",
   "metadata": {},
   "outputs": [],
   "source": [
    "# Obtain results with unseen data\n",
    "\n",
    "answer_y_test = classifier.predict(x_test)"
   ]
  },
  {
   "cell_type": "code",
   "execution_count": 9,
   "id": "d4e646b2",
   "metadata": {},
   "outputs": [
    {
     "name": "stdout",
     "output_type": "stream",
     "text": [
      "97 / 100\n",
      "\n",
      "\n",
      "97.0 %\n"
     ]
    }
   ],
   "source": [
    "# How many correct answers did the classifier get from the training data?\n",
    "accuracy_train = sum(answer_y_train==y_train)/len(y_train)\n",
    "\n",
    "print(sum(answer_y_train==y_train),\"/\",len(y_train))\n",
    "print('\\n')\n",
    "print(sum(answer_y_train==y_train)*100/len(y_train), \"%\")"
   ]
  },
  {
   "cell_type": "code",
   "execution_count": 10,
   "id": "c89390a5",
   "metadata": {},
   "outputs": [
    {
     "name": "stdout",
     "output_type": "stream",
     "text": [
      "49 / 50\n",
      "\n",
      "\n",
      "98.0 %\n"
     ]
    }
   ],
   "source": [
    "# How many correct answers did the classifier get from the unseen data?\n",
    "\n",
    "accuracy_test = sum(answer_y_test==y_test)/len(y_test)\n",
    "\n",
    "print(sum(answer_y_test==y_test),\"/\",len(y_test))\n",
    "print('\\n')\n",
    "print(sum(answer_y_test==y_test)*100/len(y_test), \"%\")"
   ]
  },
  {
   "cell_type": "code",
   "execution_count": 11,
   "id": "927a4c1a",
   "metadata": {},
   "outputs": [],
   "source": [
    "# Iteration for various numbers for K\n",
    "\n",
    "print( \" K     Train     Test\")"
   ]
  },
  {
   "cell_type": "code",
   "execution_count": 17,
   "id": "2447d0fd",
   "metadata": {},
   "outputs": [
    {
     "name": "stdout",
     "output_type": "stream",
     "text": [
      "K     Train     Test\n",
      "1     1.0      0.96\n",
      "2     0.97      0.96\n",
      "3     0.97      0.96\n",
      "4     0.96      0.98\n",
      "5     0.97      0.96\n",
      "6     0.95      0.98\n",
      "7     0.96      0.98\n",
      "8     0.96      0.98\n",
      "9     0.97      0.98\n",
      "10     0.97      0.98\n",
      "11     0.97      0.98\n",
      "12     0.97      0.96\n",
      "13     0.97      0.98\n",
      "14     0.97      0.98\n",
      "15     0.97      0.98\n",
      "16     0.96      0.98\n",
      "17     0.96      0.98\n",
      "18     0.96      0.98\n",
      "19     0.96      0.98\n",
      "20     0.96      0.94\n",
      "21     0.95      0.96\n",
      "22     0.94      0.96\n",
      "23     0.94      0.96\n",
      "24     0.94      0.96\n",
      "25     0.94      0.96\n",
      "26     0.94      0.96\n",
      "27     0.95      0.96\n",
      "28     0.94      0.98\n",
      "29     0.94      0.96\n",
      "30     0.94      0.98\n",
      "31     0.94      0.96\n",
      "32     0.94      0.96\n",
      "33     0.95      0.96\n",
      "34     0.94      0.94\n",
      "35     0.94      0.96\n",
      "36     0.94      0.92\n",
      "37     0.94      0.94\n",
      "38     0.94      0.92\n",
      "39     0.95      0.94\n",
      "40     0.94      0.9\n",
      "41     0.94      0.9\n",
      "42     0.94      0.9\n",
      "43     0.94      0.9\n",
      "44     0.94      0.88\n",
      "45     0.94      0.9\n",
      "46     0.94      0.9\n",
      "47     0.94      0.9\n",
      "48     0.94      0.92\n",
      "49     0.94      0.88\n",
      "50     0.94      0.9\n"
     ]
    }
   ],
   "source": [
    "# Iteration for various numbers for K\n",
    "\n",
    "print( \"K     Train     Test\")\n",
    "\n",
    "for k in range(1, 51):\n",
    "    \n",
    "    classifier = KNeighborsClassifier(n_neighbors=k)\n",
    "    classifier = classifier.fit(x_train,y_train)\n",
    "    \n",
    "    answer_y_train = classifier.predict(x_train)\n",
    "    answer_y_test = classifier.predict(x_test)\n",
    "    \n",
    "    accuracy_train = sum(answer_y_train==y_train)/len(y_train)\n",
    "    accuracy_test = sum(answer_y_test==y_test)/len(y_test)\n",
    "    \n",
    "    print(k, \"   \", accuracy_train,\"    \", accuracy_test )"
   ]
  },
  {
   "cell_type": "code",
   "execution_count": null,
   "id": "00f6eddd",
   "metadata": {},
   "outputs": [],
   "source": []
  }
 ],
 "metadata": {
  "kernelspec": {
   "display_name": "Python 3 (ipykernel)",
   "language": "python",
   "name": "python3"
  },
  "language_info": {
   "codemirror_mode": {
    "name": "ipython",
    "version": 3
   },
   "file_extension": ".py",
   "mimetype": "text/x-python",
   "name": "python",
   "nbconvert_exporter": "python",
   "pygments_lexer": "ipython3",
   "version": "3.9.7"
  }
 },
 "nbformat": 4,
 "nbformat_minor": 5
}
